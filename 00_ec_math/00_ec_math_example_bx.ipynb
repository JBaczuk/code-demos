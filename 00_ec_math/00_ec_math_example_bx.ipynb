{
 "cells": [
  {
   "cell_type": "markdown",
   "metadata": {},
   "source": [
    "# Elliptic Curve Math - Examples with Libbitcoin BX\n",
    "In this example, we demonstrate the properties of scalar and elliptic curve operations over finite fields.\n",
    "<br>\n",
    "<img src=\"images/ec_math_operations.jpg\" alt=\"drawing\" style=\"\" width=\"700px\"/>"
   ]
  },
  {
   "cell_type": "markdown",
   "metadata": {},
   "source": [
    "<hr style=\"border: 0.5px dashed #000;\">\n",
    "\n",
    "\n",
    "# 1. Scalar Operations\n"
   ]
  },
  {
   "cell_type": "markdown",
   "metadata": {},
   "source": [
    "## 1.1 Generate a valid `secp256k1` scalar"
   ]
  },
  {
   "cell_type": "code",
   "execution_count": null,
   "metadata": {},
   "outputs": [],
   "source": [
    "# bx seed --bit_length 128\n",
    "bx seed --bit_length 256\n"
   ]
  },
  {
   "cell_type": "code",
   "execution_count": null,
   "metadata": {},
   "outputs": [],
   "source": [
    "# bx ec-new [seed]\n",
    "bx ec-new 0b6a78267b7baff59a5c17cd693606e81724f7a44579bd846e79e506fdbbf554\n"
   ]
  },
  {
   "cell_type": "markdown",
   "metadata": {},
   "source": [
    "## 1.2 Demonstrate Distributivity\n",
    "\n",
    "**`(a + b) * c = a * c + b * c`**\n",
    "<br>\n",
    "\n",
    "* `a = 86101c23edfcdf19bf47836b7fe4b86bd3023983d477e0324adc81230b22851b`\n",
    "* `b = b6ab20f3d9311eb7ebcad6bb2933008eb350418c3f499fb764204ee08f4171f2`\n",
    "* `c = 6dbcfab245c6e278659dc26ec9d989c14c223f23cd17941ab45bb04c91290cdf`"
   ]
  },
  {
   "cell_type": "markdown",
   "metadata": {},
   "source": [
    "**`a + b`**"
   ]
  },
  {
   "cell_type": "code",
   "execution_count": 5,
   "metadata": {},
   "outputs": [
    {
     "name": "stdout",
     "output_type": "stream",
     "text": [
      "3cbb3d17c72dfdd1ab125a26a917b8fbcba39e296478dfadef2a7176ca2db5cc\n"
     ]
    }
   ],
   "source": [
    "# bx ec-add-secrets\n",
    "a='86101c23edfcdf19bf47836b7fe4b86bd3023983d477e0324adc81230b22851b'\n",
    "b='b6ab20f3d9311eb7ebcad6bb2933008eb350418c3f499fb764204ee08f4171f2'\n",
    "c='6dbcfab245c6e278659dc26ec9d989c14c223f23cd17941ab45bb04c91290cdf'\n",
    "a_plus_b=$(bx ec-add-secrets $a $b)\n",
    "echo $a_plus_b\n",
    "\n"
   ]
  },
  {
   "cell_type": "markdown",
   "metadata": {},
   "source": [
    "**`Left side: (a + b) * c`**"
   ]
  },
  {
   "cell_type": "code",
   "execution_count": 8,
   "metadata": {},
   "outputs": [
    {
     "name": "stdout",
     "output_type": "stream",
     "text": [
      "5052a8db6fbe0325b2231b630b4a4ec42b9c8e0d7b00e62c5ed1569c85e2733f\n"
     ]
    }
   ],
   "source": [
    "# bx ec-multiply-secrets\n",
    "left_side=$(bx ec-multiply-secrets $a_plus_b $c)\n",
    "echo $left_side\n"
   ]
  },
  {
   "cell_type": "markdown",
   "metadata": {},
   "source": [
    "**`a * c`**\n"
   ]
  },
  {
   "cell_type": "code",
   "execution_count": 9,
   "metadata": {},
   "outputs": [],
   "source": [
    "a_times_c=$(bx ec-multiply-secrets $a $c)\n"
   ]
  },
  {
   "cell_type": "markdown",
   "metadata": {},
   "source": [
    "**`b * c`**"
   ]
  },
  {
   "cell_type": "code",
   "execution_count": 10,
   "metadata": {},
   "outputs": [],
   "source": [
    "b_times_c=$(bx ec-multiply-secrets $b $c)\n",
    "\n",
    "\n"
   ]
  },
  {
   "cell_type": "markdown",
   "metadata": {},
   "source": [
    "**`Right side: a * c + b * c`**"
   ]
  },
  {
   "cell_type": "code",
   "execution_count": 11,
   "metadata": {},
   "outputs": [
    {
     "name": "stdout",
     "output_type": "stream",
     "text": [
      "5052a8db6fbe0325b2231b630b4a4ec42b9c8e0d7b00e62c5ed1569c85e2733f\n"
     ]
    }
   ],
   "source": [
    "# bx ec-add-secrets\n",
    "\n",
    "bx ec-add-secrets $a_times_c $b_times_c"
   ]
  },
  {
   "cell_type": "markdown",
   "metadata": {},
   "source": [
    "<hr style=\"border: 0.5px dashed #000;\">\n",
    "\n",
    "# 2. Elliptic Curve Operations:\n",
    "\n"
   ]
  },
  {
   "cell_type": "markdown",
   "metadata": {},
   "source": [
    "## 2.1 Generate a valid `secp256k1` point"
   ]
  },
  {
   "cell_type": "code",
   "execution_count": 15,
   "metadata": {},
   "outputs": [
    {
     "name": "stdout",
     "output_type": "stream",
     "text": [
      "027dfc113430297ddc047bbe002ca19a9320200ce2745c37c6e6838ee784fd0402\n"
     ]
    }
   ],
   "source": [
    "# bx seed | bx ec-new | bx ec-to-public\n",
    "bx seed --bit_length 128 | bx ec-new | bx ec-to-public\n"
   ]
  },
  {
   "cell_type": "markdown",
   "metadata": {},
   "source": [
    "**Verify that `ec-to-public` is a multiplication with the Generator point.**\n",
    "* G = 0279BE667EF9DCBBAC55A06295CE870B07029BFCDB2DCE28D959F2815B16F81798"
   ]
  },
  {
   "cell_type": "code",
   "execution_count": 16,
   "metadata": {},
   "outputs": [
    {
     "name": "stdout",
     "output_type": "stream",
     "text": [
      "03a015ad5023ade210e5b76de1f04c9a43d0e12fbb005fce18177e2f2cba90b381\n"
     ]
    }
   ],
   "source": [
    "# bx ec-to-public [secret]\n",
    "g='0279BE667EF9DCBBAC55A06295CE870B07029BFCDB2DCE28D959F2815B16F81798'\n",
    "bx ec-to-public 5052a8db6fbe0325b2231b630b4a4ec42b9c8e0d7b00e62c5ed1569c85e2733f\n"
   ]
  },
  {
   "cell_type": "code",
   "execution_count": 17,
   "metadata": {},
   "outputs": [
    {
     "name": "stdout",
     "output_type": "stream",
     "text": [
      "03a015ad5023ade210e5b76de1f04c9a43d0e12fbb005fce18177e2f2cba90b381\n"
     ]
    }
   ],
   "source": [
    "# bx ec-multiply [point] [secret]\n",
    "bx ec-multiply $g 5052a8db6fbe0325b2231b630b4a4ec42b9c8e0d7b00e62c5ed1569c85e2733f\n"
   ]
  },
  {
   "cell_type": "markdown",
   "metadata": {},
   "source": [
    "## 2.2 Demonstrate Distributivity for Elliptic Curve Operations\n",
    "\n",
    "**`(a + b) * G = A + B`**\n",
    "\n",
    "* `a = 86101c23edfcdf19bf47836b7fe4b86bd3023983d477e0324adc81230b22851b`\n",
    "* `b = b6ab20f3d9311eb7ebcad6bb2933008eb350418c3f499fb764204ee08f4171f2`"
   ]
  },
  {
   "cell_type": "markdown",
   "metadata": {},
   "source": [
    "**`a + b`**\n"
   ]
  },
  {
   "cell_type": "code",
   "execution_count": 19,
   "metadata": {},
   "outputs": [],
   "source": [
    "# bx ec-add-secrets [secret] [secret]\n",
    "a='86101c23edfcdf19bf47836b7fe4b86bd3023983d477e0324adc81230b22851b'\n",
    "b='b6ab20f3d9311eb7ebcad6bb2933008eb350418c3f499fb764204ee08f4171f2'\n",
    "a_plus_b=$(bx ec-add-secrets $a $b)\n",
    "\n"
   ]
  },
  {
   "cell_type": "markdown",
   "metadata": {},
   "source": [
    "**`Left side: (a + b) * G`**"
   ]
  },
  {
   "cell_type": "code",
   "execution_count": 20,
   "metadata": {},
   "outputs": [
    {
     "name": "stdout",
     "output_type": "stream",
     "text": [
      "023cbf38233fd17a7c3126e14e85a03c27c81b97f3158511c0ae79011dad88a60b\n"
     ]
    }
   ],
   "source": [
    "# bx ec-to-public [secret]\n",
    "left_side=$(bx ec-to-public $a_plus_b)\n",
    "echo $left_side"
   ]
  },
  {
   "cell_type": "markdown",
   "metadata": {},
   "source": [
    "**`A = a * G`**"
   ]
  },
  {
   "cell_type": "code",
   "execution_count": 23,
   "metadata": {},
   "outputs": [],
   "source": [
    "# bx ec-to-public [secret]\n",
    "A=$(bx ec-to-public $a)\n"
   ]
  },
  {
   "cell_type": "markdown",
   "metadata": {},
   "source": [
    "**`Right side: A + B`**\n",
    "\n",
    "* `ec-add POINT secret = POINT + (secret * G)`"
   ]
  },
  {
   "cell_type": "code",
   "execution_count": 24,
   "metadata": {},
   "outputs": [
    {
     "name": "stdout",
     "output_type": "stream",
     "text": [
      "023cbf38233fd17a7c3126e14e85a03c27c81b97f3158511c0ae79011dad88a60b\n"
     ]
    }
   ],
   "source": [
    "# bx ec-add [POINT] [secret]\n",
    "bx ec-add $A $b\n",
    "\n"
   ]
  }
 ],
 "metadata": {
  "kernelspec": {
   "display_name": "Bash",
   "language": "bash",
   "name": "bash"
  },
  "language_info": {
   "codemirror_mode": "shell",
   "file_extension": ".sh",
   "mimetype": "text/x-sh",
   "name": "bash"
  }
 },
 "nbformat": 4,
 "nbformat_minor": 2
}
