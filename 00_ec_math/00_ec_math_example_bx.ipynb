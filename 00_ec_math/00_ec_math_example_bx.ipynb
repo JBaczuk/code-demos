{
 "cells": [
  {
   "cell_type": "markdown",
   "metadata": {},
   "source": [
    "# Elliptic Curve Math - Examples with Libbitcoin BX\n",
    "In this example, we demonstrate the properties of scalar and elliptic curve operations over finite fields.\n",
    "<br>\n",
    "<img src=\"images/ec_math_operations.jpg\" alt=\"drawing\" style=\"\" width=\"700px\"/>"
   ]
  },
  {
   "cell_type": "markdown",
   "metadata": {},
   "source": [
    "<hr style=\"border: 0.5px dashed #000;\">\n",
    "\n",
    "\n",
    "# 1. Scalar Operations\n"
   ]
  },
  {
   "cell_type": "markdown",
   "metadata": {},
   "source": [
    "## 1.1 Generate a valid `secp256k1` scalar"
   ]
  },
  {
   "cell_type": "code",
   "execution_count": 1,
   "metadata": {},
   "outputs": [
    {
     "name": "stdout",
     "output_type": "stream",
     "text": [
      "869d9d0bd8069f57cdf45ae9fd316946316d41a53ed3830bfc749337046e53ce\n"
     ]
    }
   ],
   "source": [
    "seed=$(bx seed --bit_length 256)\n",
    "echo $seed\n"
   ]
  },
  {
   "cell_type": "code",
   "execution_count": 2,
   "metadata": {},
   "outputs": [
    {
     "name": "stdout",
     "output_type": "stream",
     "text": [
      "5f6c1f07fc2235300efc1cd78bdb784c30cb919aed7e8a3a56b9489bc50e037c\n"
     ]
    }
   ],
   "source": [
    "my_secret=$(bx ec-new $seed)\n",
    "echo $my_secret\n"
   ]
  },
  {
   "cell_type": "markdown",
   "metadata": {},
   "source": [
    "## 1.2 Demonstrate Distributivity\n",
    "\n",
    "**`(a + b) * c = a * c + b * c`**\n",
    "<br>\n",
    "\n",
    "* `a = 86101c23edfcdf19bf47836b7fe4b86bd3023983d477e0324adc81230b22851b`\n",
    "* `b = b6ab20f3d9311eb7ebcad6bb2933008eb350418c3f499fb764204ee08f4171f2`\n",
    "* `c = 6dbcfab245c6e278659dc26ec9d989c14c223f23cd17941ab45bb04c91290cdf`"
   ]
  },
  {
   "cell_type": "markdown",
   "metadata": {},
   "source": [
    "**`a + b`**"
   ]
  },
  {
   "cell_type": "code",
   "execution_count": 5,
   "metadata": {},
   "outputs": [
    {
     "name": "stdout",
     "output_type": "stream",
     "text": [
      "3cbb3d17c72dfdd1ab125a26a917b8fbcba39e296478dfadef2a7176ca2db5cc\n"
     ]
    }
   ],
   "source": [
    "a='86101c23edfcdf19bf47836b7fe4b86bd3023983d477e0324adc81230b22851b'\n",
    "b='b6ab20f3d9311eb7ebcad6bb2933008eb350418c3f499fb764204ee08f4171f2'\n",
    "a_plus_b=$(bx ec-add-secrets $a $b)\n",
    "echo $a_plus_b\n"
   ]
  },
  {
   "cell_type": "markdown",
   "metadata": {},
   "source": [
    "**`Left side: (a + b) * c`**"
   ]
  },
  {
   "cell_type": "code",
   "execution_count": 12,
   "metadata": {},
   "outputs": [
    {
     "name": "stdout",
     "output_type": "stream",
     "text": [
      "5052a8db6fbe0325b2231b630b4a4ec42b9c8e0d7b00e62c5ed1569c85e2733f\n",
      "5052a8db6fbe0325b2231b630b4a4ec42b9c8e0d7b00e62c5ed1569c85e2733f\n"
     ]
    }
   ],
   "source": [
    "c='6dbcfab245c6e278659dc26ec9d989c14c223f23cd17941ab45bb04c91290cdf'\n",
    "left_side=$(bx ec-multiply-secrets $a_b $c)\n",
    "echo $left_side\n"
   ]
  },
  {
   "cell_type": "markdown",
   "metadata": {},
   "source": [
    "**`a * c`**\n"
   ]
  },
  {
   "cell_type": "code",
   "execution_count": null,
   "metadata": {},
   "outputs": [],
   "source": [
    "a_times_c=$(bx ec-multiply-secrets $a $c)"
   ]
  },
  {
   "cell_type": "markdown",
   "metadata": {},
   "source": [
    "**`b * c`**"
   ]
  },
  {
   "cell_type": "code",
   "execution_count": null,
   "metadata": {},
   "outputs": [],
   "source": [
    "b_times_c=$(bx ec-multiply-secrets $b $c)"
   ]
  },
  {
   "cell_type": "markdown",
   "metadata": {},
   "source": [
    "**`Right side: a * c + b * c`**"
   ]
  },
  {
   "cell_type": "code",
   "execution_count": null,
   "metadata": {},
   "outputs": [],
   "source": [
    "bx ec-add-secrets $a_times_c $b_times_c"
   ]
  },
  {
   "cell_type": "markdown",
   "metadata": {},
   "source": [
    "<hr style=\"border: 0.5px dashed #000;\">\n",
    "\n",
    "# 2. Elliptic Curve Operations:\n",
    "\n"
   ]
  },
  {
   "cell_type": "markdown",
   "metadata": {},
   "source": [
    "## 2.1 Generate a valid `secp256k1` point"
   ]
  },
  {
   "cell_type": "code",
   "execution_count": 6,
   "metadata": {},
   "outputs": [
    {
     "name": "stdout",
     "output_type": "stream",
     "text": [
      "03c26f3031170f9da0338651763c75379a48ede0e9bedfa0396f5d7b5f84eeafaf\n"
     ]
    }
   ],
   "source": [
    "my_point=$(bx seed --bit_length 128 | bx ec-new | bx ec-to-public)\n",
    "echo $my_point\n"
   ]
  },
  {
   "cell_type": "markdown",
   "metadata": {},
   "source": [
    "**Verify that `ec-to-public` is a multiplication with the Generator point.**\n",
    "* G = 0279BE667EF9DCBBAC55A06295CE870B07029BFCDB2DCE28D959F2815B16F81798"
   ]
  },
  {
   "cell_type": "code",
   "execution_count": 7,
   "metadata": {},
   "outputs": [
    {
     "name": "stdout",
     "output_type": "stream",
     "text": [
      "027f2562c1f7c43d621171cc4488286e96dde16648d53cee4832dc76c9a6231efd\n"
     ]
    }
   ],
   "source": [
    "# bx ec-to-public [secret]\n",
    "secret='5f6c1f07fc2235300efc1cd78bdb784c30cb919aed7e8a3a56b9489bc50e037c'\n",
    "bx ec-to-public $secret\n",
    "\n"
   ]
  },
  {
   "cell_type": "code",
   "execution_count": 10,
   "metadata": {},
   "outputs": [
    {
     "name": "stdout",
     "output_type": "stream",
     "text": [
      "027f2562c1f7c43d621171cc4488286e96dde16648d53cee4832dc76c9a6231efd\n"
     ]
    }
   ],
   "source": [
    "# bx ec-multiply [point] [secret]\n",
    "g='0279BE667EF9DCBBAC55A06295CE870B07029BFCDB2DCE28D959F2815B16F81798'\n",
    "bx ec-multiply $g $secret"
   ]
  },
  {
   "cell_type": "markdown",
   "metadata": {},
   "source": [
    "## 2.2 Demonstrate Distributivity for Elliptic Curve Operations\n",
    "\n",
    "**`(a + b) * G = A + B`**\n",
    "\n",
    "* `a = 86101c23edfcdf19bf47836b7fe4b86bd3023983d477e0324adc81230b22851b`\n",
    "* `b = b6ab20f3d9311eb7ebcad6bb2933008eb350418c3f499fb764204ee08f4171f2`"
   ]
  },
  {
   "cell_type": "markdown",
   "metadata": {},
   "source": [
    "**`a + b`**\n"
   ]
  },
  {
   "cell_type": "code",
   "execution_count": 17,
   "metadata": {},
   "outputs": [],
   "source": [
    "a='86101c23edfcdf19bf47836b7fe4b86bd3023983d477e0324adc81230b22851b'\n",
    "b='b6ab20f3d9311eb7ebcad6bb2933008eb350418c3f499fb764204ee08f4171f2'\n",
    "a_plus_b=$(bx ec-add-secrets $a $b)\n"
   ]
  },
  {
   "cell_type": "markdown",
   "metadata": {},
   "source": [
    "**`Left side: (a + b) * G`**"
   ]
  },
  {
   "cell_type": "code",
   "execution_count": 18,
   "metadata": {},
   "outputs": [
    {
     "name": "stdout",
     "output_type": "stream",
     "text": [
      "023cbf38233fd17a7c3126e14e85a03c27c81b97f3158511c0ae79011dad88a60b\n"
     ]
    }
   ],
   "source": [
    "left_side=$(bx ec-to-public $a_plus_b)\n",
    "echo $left_side\n"
   ]
  },
  {
   "cell_type": "markdown",
   "metadata": {},
   "source": [
    "**`A = a * G`**"
   ]
  },
  {
   "cell_type": "code",
   "execution_count": 19,
   "metadata": {},
   "outputs": [],
   "source": [
    "A=$(bx ec-to-public $a)\n"
   ]
  },
  {
   "cell_type": "markdown",
   "metadata": {},
   "source": [
    "**`Right side: A + B`**\n",
    "\n",
    "* `ec-add POINT secret = POINT + (secret * G)`"
   ]
  },
  {
   "cell_type": "code",
   "execution_count": 15,
   "metadata": {},
   "outputs": [
    {
     "name": "stdout",
     "output_type": "stream",
     "text": [
      "03957f758e9e4ac72aa4591b690c612abe51d0947b0aaf2dd91b6f267507a3ea71\n"
     ]
    }
   ],
   "source": [
    "right_side=$(bx ec-add $A $b)\n",
    "echo $right_side\n"
   ]
  }
 ],
 "metadata": {
  "kernelspec": {
   "display_name": "Bash",
   "language": "bash",
   "name": "bash"
  },
  "language_info": {
   "codemirror_mode": "shell",
   "file_extension": ".sh",
   "mimetype": "text/x-sh",
   "name": "bash"
  }
 },
 "nbformat": 4,
 "nbformat_minor": 2
}
